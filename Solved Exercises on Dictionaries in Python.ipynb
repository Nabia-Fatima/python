{
 "cells": [
  {
   "cell_type": "code",
   "execution_count": 15,
   "id": "7038716e-b2d7-4eeb-bbd4-202117649b0b",
   "metadata": {},
   "outputs": [
    {
     "name": "stdout",
     "output_type": "stream",
     "text": [
      "{'name': 'Nabia', 'age': 18, 'city': 'Lahore', 'hobbies': ['reading', 'drawing']}\n"
     ]
    }
   ],
   "source": [
    "person={\n",
    "    \"name\":\"Nabia\",\n",
    "    \"age\": 18,\n",
    "    \"city\" : \"Lahore\",\n",
    "    \"hobbies\":[\"reading\",\"drawing\"]\n",
    "}\n",
    "print(person)"
   ]
  },
  {
   "cell_type": "code",
   "execution_count": 17,
   "id": "8df2d159-63ea-4627-bb41-a5cddd364518",
   "metadata": {},
   "outputs": [
    {
     "name": "stdout",
     "output_type": "stream",
     "text": [
      "Word Frequencies:\n",
      "{'apple': 3, 'orange': 2, 'banana': 1}\n"
     ]
    }
   ],
   "source": [
    "text = \"apple orange apple banana orange apple\"\n",
    "words = text.split()\n",
    "word_count = {}\n",
    "for word in words:\n",
    "    if word in word_count:\n",
    "        word_count[word] += 1\n",
    "    else:\n",
    "        word_count[word] = 1\n",
    "print(\"Word Frequencies:\")\n",
    "print(word_count)"
   ]
  },
  {
   "cell_type": "code",
   "execution_count": 48,
   "id": "3dc9efbb-45be-439b-830d-8e0d549bc9a1",
   "metadata": {},
   "outputs": [
    {
     "name": "stdout",
     "output_type": "stream",
     "text": [
      "Inventory: {'mango': 10, 'banana': 56, 'orange': 80}\n",
      "After Adding Items: {'mango': 15, 'banana': 59, 'orange': 80}\n",
      "After Removing Items: {'mango': 15, 'banana': 59, 'orange': 78}\n"
     ]
    }
   ],
   "source": [
    "inventory = {\n",
    "    \"mango\": 10,\n",
    "    \"banana\": 56,\n",
    "    \"orange\": 80\n",
    "}\n",
    "print(\"Inventory:\",inventory)\n",
    "inventory[\"mango\"] += 5\n",
    "inventory[\"banana\"] += 3\n",
    "print(\"After Adding Items:\",inventory)\n",
    "inventory[\"orange\"] -= 2\n",
    "print(\"After Removing Items:\",inventory)"
   ]
  },
  {
   "cell_type": "code",
   "execution_count": 44,
   "id": "f3164f63-2523-47c1-a134-dce3a5291c61",
   "metadata": {},
   "outputs": [
    {
     "name": "stdout",
     "output_type": "stream",
     "text": [
      "Category Counts: {'shoes': 2, 'books': 3, 'clothing': 1}\n",
      "Most Popular Category: books\n"
     ]
    }
   ],
   "source": [
    "orders = [\"shoes\", \"books\", \"shoes\", \"books\", \"clothing\", \"books\"]\n",
    "category_count = {}\n",
    "for category in orders:\n",
    "    if category in category_count:\n",
    "        category_count[category] += 1\n",
    "    else:\n",
    "        category_count[category] = 1\n",
    "most_popular = max(category_count, key=category_count.get)\n",
    "print(\"Category Counts:\",category_count)\n",
    "print(\"Most Popular Category:\",most_popular)"
   ]
  },
  {
   "cell_type": "code",
   "execution_count": 52,
   "id": "da1a834f-0352-4a45-b9aa-161889bbf928",
   "metadata": {},
   "outputs": [
    {
     "name": "stdout",
     "output_type": "stream",
     "text": [
      "Student Grades: {'Ahad': 65, 'Bhatti': 78, 'Sania': 89}\n",
      "Average Grade: 77.33333333333333\n"
     ]
    }
   ],
   "source": [
    "grades = {\n",
    "    \"Ahad\": 65,\n",
    "    \"Bhatti\": 78,\n",
    "    \"Sania\": 89\n",
    "}\n",
    "total = 0\n",
    "for grade in grades.values():\n",
    "    total+=grade\n",
    "average = total / len(grades)\n",
    "print(\"Student Grades:\",grades)\n",
    "print(\"Average Grade:\",average)"
   ]
  },
  {
   "cell_type": "code",
   "execution_count": null,
   "id": "f85b80a9-0bd3-441f-adc4-4f8eb8388806",
   "metadata": {},
   "outputs": [],
   "source": []
  }
 ],
 "metadata": {
  "kernelspec": {
   "display_name": "Python 3 (ipykernel)",
   "language": "python",
   "name": "python3"
  },
  "language_info": {
   "codemirror_mode": {
    "name": "ipython",
    "version": 3
   },
   "file_extension": ".py",
   "mimetype": "text/x-python",
   "name": "python",
   "nbconvert_exporter": "python",
   "pygments_lexer": "ipython3",
   "version": "3.12.4"
  }
 },
 "nbformat": 4,
 "nbformat_minor": 5
}
